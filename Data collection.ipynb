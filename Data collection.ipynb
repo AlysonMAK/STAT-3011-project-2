{
 "cells": [
  {
   "cell_type": "markdown",
   "id": "d9a81f2a",
   "metadata": {},
   "source": [
    "Automatically download numerous high-quality pictures from the website"
   ]
  },
  {
   "cell_type": "code",
   "execution_count": null,
   "id": "fd1a716c",
   "metadata": {},
   "outputs": [],
   "source": [
    "from selenium import webdriver\n",
    "from selenium.webdriver.common.by import By\n",
    "from selenium.webdriver.support.ui import WebDriverWait\n",
    "from selenium.webdriver.support import expected_conditions as EC\n",
    "from selenium.webdriver.common.keys import Keys\n",
    "from bs4 import BeautifulSoup\n",
    "from tqdm import tqdm\n",
    "import time \n",
    "import chardet\n",
    "import time\n",
    "import os\n",
    "import wget\n",
    "import re\n",
    "import urllib.request"
   ]
  },
  {
   "cell_type": "code",
   "execution_count": null,
   "id": "f75bd748",
   "metadata": {},
   "outputs": [],
   "source": [
    "option=webdriver.ChromeOptions()\n",
    "option.binary_location='E:/Google/Chrome/Application/chrome.exe'\n",
    "driver=webdriver.Chrome(executable_path='E:/chromedriver_win32/chromedriver.exe',chrome_options=option) \n",
    "driver.get('https://unsplash.com/')\n",
    "search=driver.find_element_by_name(\"searchKeyword\")\n",
    "keyword=\"forest\"\n",
    "search.send_keys(keyword)\n",
    "search.send_keys(Keys.RETURN)"
   ]
  },
  {
   "cell_type": "code",
   "execution_count": null,
   "id": "7703316f",
   "metadata": {},
   "outputs": [],
   "source": [
    "for i in range(250):\n",
    "        driver.execute_script(\"window.scrollTo(0, document.body.scrollHeight-2000);\")\n",
    "        time.sleep(15)  "
   ]
  },
  {
   "cell_type": "code",
   "execution_count": null,
   "id": "f04c5673",
   "metadata": {},
   "outputs": [],
   "source": [
    "driver.enconding='UTF-8'\n",
    "count=0\n",
    "imgs = driver.find_elements_by_class_name(\"YVj9w\")\n",
    "path = os.path.join(keyword)\n",
    "os.mkdir(path) \n",
    "\n",
    "for img in imgs:\n",
    "    save_as = os.path.join(path, keyword + str(count) + '.jpg')\n",
    "    image=img.get_attribute(\"src\")\n",
    "    image=urllib.request.urlretrieve(image,save_as)\n",
    "    string='keyword'+  str(count) + '.jpg'\n",
    "    count+=1\n",
    "    print('image：',count)\n",
    "    for i in tqdm(range(100)):\n",
    "        pass\n",
    "print('The amounts of datacollection：',count)"
   ]
  }
 ],
 "metadata": {
  "kernelspec": {
   "display_name": "Python 3 (ipykernel)",
   "language": "python",
   "name": "python3"
  },
  "language_info": {
   "codemirror_mode": {
    "name": "ipython",
    "version": 3
   },
   "file_extension": ".py",
   "mimetype": "text/x-python",
   "name": "python",
   "nbconvert_exporter": "python",
   "pygments_lexer": "ipython3",
   "version": "3.9.7"
  }
 },
 "nbformat": 4,
 "nbformat_minor": 5
}
