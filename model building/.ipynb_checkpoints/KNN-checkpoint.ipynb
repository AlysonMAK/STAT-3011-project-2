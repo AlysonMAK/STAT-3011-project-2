{
 "cells": [
  {
   "cell_type": "code",
   "execution_count": null,
   "id": "16c3c026",
   "metadata": {
    "colab": {
     "base_uri": "https://localhost:8080/"
    },
    "id": "16c3c026",
    "outputId": "6c3e337b-dcf8-48eb-b64e-d4f51853bfd7"
   },
   "outputs": [
    {
     "data": {
      "text/plain": [
       "4"
      ]
     },
     "execution_count": 1,
     "metadata": {},
     "output_type": "execute_result"
    }
   ],
   "source": [
    "# path to images\n",
    "path = '/content/drive/MyDrive/images/'\n",
    "\n",
    "# animal categories\n",
    "categories = ['mountain','ocean','street','forest']\n",
    "no_cate=len(categories)\n",
    "no_cate #number of categories"
   ]
  },
  {
   "cell_type": "code",
   "execution_count": null,
   "id": "kfDkHvvclYBW",
   "metadata": {
    "colab": {
     "base_uri": "https://localhost:8080/"
    },
    "id": "kfDkHvvclYBW",
    "outputId": "e6ce4f17-4cd0-4fee-86aa-1e9389326c0a"
   },
   "outputs": [
    {
     "name": "stdout",
     "output_type": "stream",
     "text": [
      "Mounted at /content/drive\n"
     ]
    }
   ],
   "source": [
    "from google.colab import drive\n",
    "drive.mount('/content/drive')"
   ]
  },
  {
   "cell_type": "markdown",
   "id": "8c55654d",
   "metadata": {
    "id": "8c55654d"
   },
   "source": [
    "# Data Preprocessing"
   ]
  },
  {
   "cell_type": "markdown",
   "id": "467bd256",
   "metadata": {
    "id": "467bd256"
   },
   "source": [
    "(1) Resize pictures to equate height and width for each picture"
   ]
  },
  {
   "cell_type": "code",
   "execution_count": null,
   "id": "ffd98dbc",
   "metadata": {
    "colab": {
     "base_uri": "https://localhost:8080/"
    },
    "id": "ffd98dbc",
    "outputId": "8e6ce1d9-d7e4-4e68-d791-d7662477da70"
   },
   "outputs": [
    {
     "name": "stdout",
     "output_type": "stream",
     "text": [
      "[['/content/drive/MyDrive/images/mountain/mountain1156.jpg', 0], ['/content/drive/MyDrive/images/forest/forest1461.jpg', 3], ['/content/drive/MyDrive/images/street/street1445.jpg', 2], ['/content/drive/MyDrive/images/mountain/mountain1817.jpg', 0], ['/content/drive/MyDrive/images/mountain/mountain1777.jpg', 0], ['/content/drive/MyDrive/images/ocean/ocean1409.jpg', 1], ['/content/drive/MyDrive/images/ocean/ocean11.jpg', 1], ['/content/drive/MyDrive/images/forest/forest352.jpg', 3], ['/content/drive/MyDrive/images/street/street1279.jpg', 2], ['/content/drive/MyDrive/images/mountain/mountain1252.jpg', 0]]\n"
     ]
    }
   ],
   "source": [
    "# initialize the data and labels\n",
    "data = []\n",
    "labels = []\n",
    "imagePaths = []\n",
    "HEIGHT = 32\n",
    "WIDTH =32\n",
    "N_CHANNELS = 3\n",
    "\n",
    "# grab the image paths and randomly shuffle them\n",
    "for k, category in enumerate(categories):\n",
    "    for f in os.listdir(path+category):\n",
    "        imagePaths.append([path+category+'/'+f, k]) \n",
    "random.shuffle(imagePaths)\n",
    "print(imagePaths[:10])\n",
    "\n",
    "# loop over the input images\n",
    "for imagePath in imagePaths:\n",
    "    # load the image, resize the image to be HEIGHT * WIDTH pixels (ignoring\n",
    "    # aspect ratio) and store the image in the data list\n",
    "    image = cv2.imread(imagePath[0])\n",
    "    image = cv2.resize(image, (WIDTH, HEIGHT))  # .flatten()\n",
    "    data.append(image)     \n",
    "    \n",
    "    # extract the class label from the image path and update the\n",
    "    # labels list\n",
    "    label = imagePath[1]\n",
    "    labels.append(label)\n",
    "        "
   ]
  },
  {
   "cell_type": "markdown",
   "id": "79befbc5",
   "metadata": {
    "id": "79befbc5"
   },
   "source": [
    "(2) Normalization"
   ]
  },
  {
   "cell_type": "code",
   "execution_count": null,
   "id": "14aa329d",
   "metadata": {
    "id": "14aa329d"
   },
   "outputs": [],
   "source": [
    "data = np.array(data, dtype=\"float\") / 255.0\n",
    "labels = np.array(labels)"
   ]
  },
  {
   "cell_type": "markdown",
   "id": "24681ee6",
   "metadata": {
    "id": "24681ee6"
   },
   "source": [
    "(3) train-validation-test splitting"
   ]
  },
  {
   "cell_type": "code",
   "execution_count": null,
   "id": "ce2b320b",
   "metadata": {
    "id": "ce2b320b"
   },
   "outputs": [],
   "source": [
    "#80% for training and 20% for testing\n",
    "#option 1: make split for each category (stratified sampling)\n",
    "(trainX,testX,trainY,testY)=train_test_split(data,labels,test_size=0.15,random_state=3011,stratify=labels)\n",
    "\n",
    "#option 2: split all data together\n",
    "#(trainX, testX, trainY, testY) = train_test_split(data, labels, test_size=0.2, random_state=3011)"
   ]
  },
  {
   "cell_type": "code",
   "execution_count": null,
   "id": "276ce67f",
   "metadata": {
    "id": "276ce67f"
   },
   "outputs": [],
   "source": [
    "#further split train data to get validation dataset\n",
    "(trainX,validationX,trainY,validationY)=train_test_split(trainX,trainY,test_size=15/85,random_state=3011,stratify=trainY)\n",
    "validationY=np_utils.to_categorical(validationY,no_cate)\n",
    "trainY=np_utils.to_categorical(trainY,no_cate)\n",
    "testY=np_utils.to_categorical(testY,no_cate)\n"
   ]
  },
  {
   "cell_type": "code",
   "execution_count": null,
   "id": "164e25c8",
   "metadata": {
    "colab": {
     "base_uri": "https://localhost:8080/"
    },
    "id": "164e25c8",
    "outputId": "3d309684-55c8-4fb1-9252-b0fad9ec82f2"
   },
   "outputs": [
    {
     "name": "stdout",
     "output_type": "stream",
     "text": [
      "(5600, 32, 32, 3)\n",
      "(1200, 32, 32, 3)\n",
      "(1200, 32, 32, 3)\n",
      "(5600, 4)\n",
      "(1200, 4)\n",
      "(1200, 4)\n"
     ]
    }
   ],
   "source": [
    "print(trainX.shape)\n",
    "print(validationX.shape)\n",
    "print(testX.shape)\n",
    "print(trainY.shape)\n",
    "print(validationY.shape)\n",
    "print(testY.shape)"
   ]
  },
  {
   "cell_type": "markdown",
   "id": "8185c9bb",
   "metadata": {
    "id": "8185c9bb"
   },
   "source": [
    "# Model Fitting 1: KNN"
   ]
  },
  {
   "cell_type": "code",
   "execution_count": null,
   "id": "42fc6a5a",
   "metadata": {
    "colab": {
     "base_uri": "https://localhost:8080/"
    },
    "id": "42fc6a5a",
    "outputId": "6d451068-964a-418b-f334-eca6fdeeb2a6"
   },
   "outputs": [
    {
     "name": "stdout",
     "output_type": "stream",
     "text": [
      "1 0.4241666666666667\n",
      "2 0.24666666666666667\n",
      "3 0.39916666666666667\n",
      "4 0.29\n",
      "5 0.38666666666666666\n",
      "6 0.30916666666666665\n",
      "7 0.3925\n",
      "8 0.32666666666666666\n",
      "9 0.3858333333333333\n",
      "10 0.33166666666666667\n",
      "11 0.37583333333333335\n",
      "12 0.3425\n",
      "13 0.38166666666666665\n",
      "14 0.345\n",
      "15 0.38166666666666665\n",
      "16 0.3491666666666667\n",
      "17 0.37916666666666665\n",
      "18 0.3466666666666667\n",
      "19 0.37166666666666665\n",
      "20 0.3458333333333333\n",
      "21 0.36833333333333335\n",
      "22 0.3425\n",
      "23 0.365\n",
      "24 0.3475\n",
      "25 0.36583333333333334\n",
      "26 0.3491666666666667\n",
      "27 0.37166666666666665\n",
      "28 0.355\n",
      "29 0.3725\n",
      "30 0.355\n",
      "31 0.37583333333333335\n",
      "32 0.36\n",
      "33 0.37083333333333335\n",
      "34 0.3541666666666667\n",
      "35 0.3725\n",
      "36 0.355\n",
      "37 0.36916666666666664\n",
      "38 0.3566666666666667\n",
      "39 0.3725\n",
      "40 0.3566666666666667\n",
      "41 0.37\n",
      "42 0.35583333333333333\n",
      "43 0.37\n",
      "44 0.3541666666666667\n",
      "45 0.36666666666666664\n",
      "46 0.3516666666666667\n",
      "47 0.365\n",
      "48 0.3491666666666667\n",
      "49 0.36583333333333334\n",
      "50 0.34833333333333333\n",
      "51 0.3641666666666667\n",
      "52 0.3491666666666667\n",
      "53 0.3575\n",
      "54 0.3516666666666667\n",
      "55 0.365\n",
      "56 0.35333333333333333\n",
      "57 0.3675\n",
      "58 0.35583333333333333\n",
      "59 0.36583333333333334\n",
      "60 0.3541666666666667\n",
      "61 0.365\n",
      "62 0.3566666666666667\n",
      "63 0.3675\n",
      "64 0.3541666666666667\n",
      "65 0.36833333333333335\n",
      "66 0.3516666666666667\n",
      "67 0.3675\n",
      "68 0.35583333333333333\n",
      "69 0.36583333333333334\n",
      "70 0.355\n",
      "71 0.3616666666666667\n",
      "72 0.35333333333333333\n",
      "73 0.3575\n",
      "74 0.3525\n",
      "75 0.3575\n",
      "76 0.35\n",
      "77 0.3566666666666667\n",
      "78 0.3525\n",
      "79 0.35833333333333334\n",
      "80 0.3525\n",
      "81 0.36\n",
      "82 0.3491666666666667\n",
      "83 0.35583333333333333\n",
      "84 0.3491666666666667\n",
      "85 0.3591666666666667\n",
      "86 0.3516666666666667\n",
      "87 0.355\n",
      "88 0.34833333333333333\n",
      "89 0.35583333333333333\n",
      "90 0.34833333333333333\n",
      "91 0.3591666666666667\n",
      "92 0.3525\n",
      "93 0.36\n",
      "94 0.3525\n",
      "95 0.35583333333333333\n",
      "96 0.35333333333333333\n",
      "97 0.355\n",
      "98 0.3491666666666667\n",
      "99 0.3541666666666667\n"
     ]
    }
   ],
   "source": [
    "# -*- coding:utf-8 -*-\n",
    "import numpy as np\n",
    "# cross_validation deprecated，model_selection takes place\n",
    "from sklearn import neighbors\n",
    "import pandas as pd\n",
    "from sklearn.model_selection import train_test_split\n",
    "from sklearn.metrics import mean_squared_error\n",
    "\n",
    "\n",
    "\n",
    "\n",
    "nsamples, nx, ny, nz = trainX.shape\n",
    "d2_Xtrain = trainX.reshape((nsamples,nx*ny*nz))\n",
    "\n",
    "nsamples1, nx1, ny1, nz1 = testX.shape\n",
    "d2_Xtest = testX.reshape((nsamples1,nx1*ny1*nz1))\n",
    "\n",
    "nsamples2, nx2, ny2, nz2 = validationX.shape\n",
    "d2_Xcv = validationX.reshape((nsamples2,nx2*ny2*nz2))\n",
    "\n",
    "clf = neighbors.KNeighborsClassifier(n_neighbors=5)\n",
    "\n",
    "\n",
    "for n_neighbors in range(1,100):\n",
    "    clf = neighbors.KNeighborsClassifier(n_neighbors)\n",
    "    clf.fit(d2_Xtrain,trainY)\n",
    "\n",
    "    accuracy = clf.score(d2_Xcv, validationY)\n",
    "    print(n_neighbors, accuracy)\n",
    " "
   ]
  },
  {
   "cell_type": "markdown",
   "id": "EDyUnWo2w7-n",
   "metadata": {
    "id": "EDyUnWo2w7-n"
   },
   "source": [
    "Clearly, when the number of neighbors is 1, the validation score is the best\n",
    "So we use it on testing data"
   ]
  },
  {
   "cell_type": "code",
   "execution_count": null,
   "id": "9nh5UBBxvzEO",
   "metadata": {
    "colab": {
     "base_uri": "https://localhost:8080/"
    },
    "id": "9nh5UBBxvzEO",
    "outputId": "33d23f4c-e94c-4b74-b61a-4026036726a0"
   },
   "outputs": [
    {
     "name": "stdout",
     "output_type": "stream",
     "text": [
      "0.39916666666666667\n"
     ]
    }
   ],
   "source": [
    "clf = neighbors.KNeighborsClassifier(n_neighbors=1)\n",
    "clf.fit(d2_Xtrain,trainY)\n",
    "accuracy = clf.score(d2_Xtest, testY)\n",
    "print(accuracy)"
   ]
  }
 ],
 "metadata": {
  "colab": {
   "collapsed_sections": [],
   "name": "model_new.ipynb",
   "provenance": []
  },
  "kernelspec": {
   "display_name": "Python 3 (ipykernel)",
   "language": "python",
   "name": "python3"
  },
  "language_info": {
   "codemirror_mode": {
    "name": "ipython",
    "version": 3
   },
   "file_extension": ".py",
   "mimetype": "text/x-python",
   "name": "python",
   "nbconvert_exporter": "python",
   "pygments_lexer": "ipython3",
   "version": "3.9.7"
  }
 },
 "nbformat": 4,
 "nbformat_minor": 5
}
